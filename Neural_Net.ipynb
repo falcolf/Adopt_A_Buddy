{
 "cells": [
  {
   "cell_type": "code",
   "execution_count": 1,
   "metadata": {},
   "outputs": [],
   "source": [
    "import pandas as pd\n",
    "import numpy as np\n",
    "import matplotlib.pyplot as plt\n",
    "import missingno as msno\n",
    "import seaborn as sns\n",
    "import pandas_profiling"
   ]
  },
  {
   "cell_type": "code",
   "execution_count": 2,
   "metadata": {},
   "outputs": [],
   "source": [
    "train_df = pd.read_csv('Dataset/train.csv')\n",
    "soln_df = pd.read_csv('Dataset/test.csv')"
   ]
  },
  {
   "cell_type": "code",
   "execution_count": 3,
   "metadata": {},
   "outputs": [],
   "source": [
    "train_df.drop(['pet_id'], axis = 1, inplace = True)\n",
    "main_test = soln_df.drop(['pet_id'], axis = 1)"
   ]
  },
  {
   "cell_type": "code",
   "execution_count": 4,
   "metadata": {},
   "outputs": [],
   "source": [
    "def pre_process(df):\n",
    "    df.condition.fillna(3, inplace=True)\n",
    "    df['time_to_shelter'] = (pd.to_datetime(df.listing_date) - pd.to_datetime(df.issue_date)).dt.days\n",
    "    df.drop(['issue_date','listing_date'], axis = 1, inplace=True)\n",
    "    \n",
    "    top_colors = [\n",
    "                     'Black',\n",
    "                     'White',\n",
    "                     'Brown',\n",
    "                     'Brown Tabby',\n",
    "                     'Tan',\n",
    "                     'Blue',\n",
    "                     'Orange Tabby',\n",
    "                     'Red',\n",
    "                     'Brown Brindle',\n",
    "                     'Tricolor',\n",
    "                     'Blue Tabby',\n",
    "                     'Tortie',\n",
    "                     'Calico',\n",
    "                     'Gray',\n",
    "                     'Chocolate',\n",
    "                     'Torbie',\n",
    "                     'Cream Tabby',\n",
    "                     'Sable',\n",
    "                     'Cream',\n",
    "                     'Fawn',\n",
    "                     'Yellow',\n",
    "                     'Buff',\n",
    "                     'Lynx Point',\n",
    "                     'Blue Merle'\n",
    "                ]\n",
    "    \n",
    "    def reduce_color(color):\n",
    "        if color in top_colors:\n",
    "            return color\n",
    "        return 'Other'\n",
    "    \n",
    "    df['color_mod'] = df.color_type.apply(reduce_color)\n",
    "    df.drop(['color_type'], axis = 1, inplace=True)\n",
    "    df.drop(['length(m)','height(cm)'], axis = 1, inplace= True)\n",
    "    \n",
    "    return df"
   ]
  },
  {
   "cell_type": "code",
   "execution_count": 5,
   "metadata": {},
   "outputs": [],
   "source": [
    "train_df = pre_process(train_df)\n",
    "main_test = pre_process(main_test)"
   ]
  },
  {
   "cell_type": "code",
   "execution_count": 6,
   "metadata": {},
   "outputs": [],
   "source": [
    "train_y1 = train_df.loc[:,['breed_category']]\n",
    "train_y2 = train_df.loc[:,['pet_category']]"
   ]
  },
  {
   "cell_type": "code",
   "execution_count": 7,
   "metadata": {},
   "outputs": [],
   "source": [
    "train_X = train_df.drop(['breed_category','pet_category'], axis=1)"
   ]
  },
  {
   "cell_type": "code",
   "execution_count": 8,
   "metadata": {},
   "outputs": [],
   "source": [
    "from sklearn.compose import ColumnTransformer\n",
    "from sklearn.preprocessing import LabelEncoder, OneHotEncoder"
   ]
  },
  {
   "cell_type": "code",
   "execution_count": 9,
   "metadata": {},
   "outputs": [
    {
     "data": {
      "text/plain": [
       "ColumnTransformer(n_jobs=None, remainder='passthrough', sparse_threshold=0.3,\n",
       "                  transformer_weights=None,\n",
       "                  transformers=[('color',\n",
       "                                 OneHotEncoder(categories='auto', drop='first',\n",
       "                                               dtype=<class 'numpy.float64'>,\n",
       "                                               handle_unknown='error',\n",
       "                                               sparse=False),\n",
       "                                 [4])],\n",
       "                  verbose=False)"
      ]
     },
     "execution_count": 9,
     "metadata": {},
     "output_type": "execute_result"
    }
   ],
   "source": [
    "ct = ColumnTransformer([(\"color\", OneHotEncoder(sparse=False, drop='first'), [4])], remainder = 'passthrough')\n",
    "ct.fit(train_X)"
   ]
  },
  {
   "cell_type": "code",
   "execution_count": 10,
   "metadata": {},
   "outputs": [],
   "source": [
    "train_X = ct.transform(train_X)\n",
    "main_test = ct.transform(main_test)"
   ]
  },
  {
   "cell_type": "code",
   "execution_count": 11,
   "metadata": {},
   "outputs": [
    {
     "name": "stdout",
     "output_type": "stream",
     "text": [
      "(18834, 28)\n",
      "(8072, 28)\n"
     ]
    }
   ],
   "source": [
    "print(train_X.shape)\n",
    "print(main_test.shape)"
   ]
  },
  {
   "cell_type": "code",
   "execution_count": 12,
   "metadata": {},
   "outputs": [],
   "source": [
    "from sklearn.model_selection import train_test_split\n",
    "\n",
    "X_train_breed, X_test_breed, y_train_breed, y_test_breed = train_test_split(train_X, train_y1, test_size = 0.2)\n",
    "X_train_pet, X_test_pet, y_train_pet, y_test_pet = train_test_split(train_X, train_y2, test_size = 0.2)"
   ]
  },
  {
   "cell_type": "code",
   "execution_count": 15,
   "metadata": {},
   "outputs": [
    {
     "name": "stderr",
     "output_type": "stream",
     "text": [
      "Using TensorFlow backend.\n"
     ]
    }
   ],
   "source": [
    "from imblearn.over_sampling import RandomOverSampler\n",
    "\n",
    "os = RandomOverSampler()\n",
    "\n",
    "X_train_breed, y_train_breed = os.fit_resample(X_train_breed, y_train_breed)\n",
    "X_train_pet, y_train_pet = os.fit_resample(X_train_pet, y_train_pet)"
   ]
  },
  {
   "cell_type": "code",
   "execution_count": 17,
   "metadata": {},
   "outputs": [],
   "source": [
    "from keras.models import Sequential\n",
    "from keras.layers import Dense\n",
    "from keras.wrappers.scikit_learn import KerasClassifier\n",
    "from keras.utils import np_utils\n",
    "from sklearn.model_selection import cross_val_score\n",
    "from sklearn.model_selection import KFold\n",
    "from sklearn.preprocessing import LabelEncoder\n",
    "from sklearn.pipeline import Pipeline\n",
    "from keras.layers import Dropout\n",
    "from sklearn.metrics import confusion_matrix "
   ]
  },
  {
   "cell_type": "code",
   "execution_count": 18,
   "metadata": {},
   "outputs": [
    {
     "data": {
      "text/plain": [
       "(21480, 28)"
      ]
     },
     "execution_count": 18,
     "metadata": {},
     "output_type": "execute_result"
    }
   ],
   "source": [
    "X_train_breed.shape"
   ]
  },
  {
   "cell_type": "code",
   "execution_count": 19,
   "metadata": {},
   "outputs": [
    {
     "data": {
      "text/plain": [
       "(21480, 1)"
      ]
     },
     "execution_count": 19,
     "metadata": {},
     "output_type": "execute_result"
    }
   ],
   "source": [
    "y_train_breed.shape"
   ]
  },
  {
   "cell_type": "code",
   "execution_count": 20,
   "metadata": {},
   "outputs": [],
   "source": [
    "def breed_model():\n",
    "\n",
    "    model = Sequential()\n",
    "    model.add(Dense(20, input_dim=28, activation='relu'))\n",
    "    model.add(Dropout(0.2))\n",
    "    model.add(Dense(15,  activation='relu'))\n",
    "    model.add(Dropout(0.2))\n",
    "    model.add(Dense(5,  activation='relu'))\n",
    "    model.add(Dropout(0.2))\n",
    "    model.add(Dense(3, activation='softmax'))\n",
    "\n",
    "    model.compile(loss='categorical_crossentropy', optimizer='adam', metrics=['accuracy'])\n",
    "    return model"
   ]
  },
  {
   "cell_type": "code",
   "execution_count": 21,
   "metadata": {},
   "outputs": [],
   "source": [
    "def pet_model():\n",
    "\n",
    "    model = Sequential()\n",
    "    model.add(Dense(20, input_dim=28, activation='relu'))\n",
    "    model.add(Dropout(0.2))\n",
    "    model.add(Dense(15,  activation='relu'))\n",
    "    model.add(Dropout(0.2))\n",
    "    model.add(Dense(5,  activation='relu'))\n",
    "    model.add(Dropout(0.2))\n",
    "    model.add(Dense(4, activation='softmax'))\n",
    "\n",
    "    model.compile(loss='categorical_crossentropy', optimizer='adam', metrics=['accuracy'])\n",
    "    return model"
   ]
  },
  {
   "cell_type": "code",
   "execution_count": 22,
   "metadata": {},
   "outputs": [
    {
     "name": "stdout",
     "output_type": "stream",
     "text": [
      "Epoch 1/100\n",
      "21480/21480 [==============================] - 5s 214us/step - loss: 3.3693 - accuracy: 0.3451\n",
      "Epoch 2/100\n",
      "21480/21480 [==============================] - 5s 211us/step - loss: 1.0533 - accuracy: 0.4094\n",
      "Epoch 3/100\n",
      "21480/21480 [==============================] - 5s 211us/step - loss: 1.0248 - accuracy: 0.4302\n",
      "Epoch 4/100\n",
      "21480/21480 [==============================] - 5s 210us/step - loss: 1.0026 - accuracy: 0.4432\n",
      "Epoch 5/100\n",
      "21480/21480 [==============================] - 4s 207us/step - loss: 0.9839 - accuracy: 0.4478\n",
      "Epoch 6/100\n",
      "21480/21480 [==============================] - 4s 201us/step - loss: 0.8740 - accuracy: 0.5379\n",
      "Epoch 7/100\n",
      "21480/21480 [==============================] - 5s 211us/step - loss: 0.7505 - accuracy: 0.6060\n",
      "Epoch 8/100\n",
      "21480/21480 [==============================] - 4s 201us/step - loss: 0.7204 - accuracy: 0.6314\n",
      "Epoch 9/100\n",
      "21480/21480 [==============================] - 4s 203us/step - loss: 0.6703 - accuracy: 0.6544\n",
      "Epoch 10/100\n",
      "21480/21480 [==============================] - 4s 202us/step - loss: 0.6530 - accuracy: 0.6831\n",
      "Epoch 11/100\n",
      "21480/21480 [==============================] - 4s 204us/step - loss: 0.6099 - accuracy: 0.7096\n",
      "Epoch 12/100\n",
      "21480/21480 [==============================] - 4s 206us/step - loss: 0.6196 - accuracy: 0.7122\n",
      "Epoch 13/100\n",
      "21480/21480 [==============================] - 4s 205us/step - loss: 0.5737 - accuracy: 0.7284\n",
      "Epoch 14/100\n",
      "21480/21480 [==============================] - 4s 205us/step - loss: 0.5801 - accuracy: 0.7376\n",
      "Epoch 15/100\n",
      "21480/21480 [==============================] - 5s 234us/step - loss: 0.5708 - accuracy: 0.7514\n",
      "Epoch 16/100\n",
      "21480/21480 [==============================] - 5s 235us/step - loss: 0.5938 - accuracy: 0.7475\n",
      "Epoch 17/100\n",
      "21480/21480 [==============================] - 5s 234us/step - loss: 0.5451 - accuracy: 0.7769\n",
      "Epoch 18/100\n",
      "21480/21480 [==============================] - 5s 216us/step - loss: 0.5265 - accuracy: 0.7826\n",
      "Epoch 19/100\n",
      "21480/21480 [==============================] - 4s 209us/step - loss: 0.5324 - accuracy: 0.7671\n",
      "Epoch 20/100\n",
      "21480/21480 [==============================] - 4s 203us/step - loss: 0.5346 - accuracy: 0.7824\n",
      "Epoch 21/100\n",
      "21480/21480 [==============================] - 4s 200us/step - loss: 0.5209 - accuracy: 0.7855\n",
      "Epoch 22/100\n",
      "21480/21480 [==============================] - 4s 200us/step - loss: 0.4770 - accuracy: 0.7969\n",
      "Epoch 23/100\n",
      "21480/21480 [==============================] - 4s 201us/step - loss: 0.5120 - accuracy: 0.7901\n",
      "Epoch 24/100\n",
      "21480/21480 [==============================] - 4s 201us/step - loss: 0.4941 - accuracy: 0.7991\n",
      "Epoch 25/100\n",
      "21480/21480 [==============================] - 4s 202us/step - loss: 0.5014 - accuracy: 0.7902\n",
      "Epoch 26/100\n",
      "21480/21480 [==============================] - 4s 201us/step - loss: 0.4695 - accuracy: 0.8103\n",
      "Epoch 27/100\n",
      "21480/21480 [==============================] - 4s 203us/step - loss: 0.4879 - accuracy: 0.7973\n",
      "Epoch 28/100\n",
      "21480/21480 [==============================] - 4s 202us/step - loss: 0.4454 - accuracy: 0.8219\n",
      "Epoch 29/100\n",
      "21480/21480 [==============================] - 5s 217us/step - loss: 0.4806 - accuracy: 0.8224\n",
      "Epoch 30/100\n",
      "21480/21480 [==============================] - 4s 206us/step - loss: 0.4596 - accuracy: 0.8246\n",
      "Epoch 31/100\n",
      "21480/21480 [==============================] - 4s 208us/step - loss: 0.4391 - accuracy: 0.8248\n",
      "Epoch 32/100\n",
      "21480/21480 [==============================] - 4s 208us/step - loss: 0.4572 - accuracy: 0.8171\n",
      "Epoch 33/100\n",
      "21480/21480 [==============================] - 4s 207us/step - loss: 0.4461 - accuracy: 0.8171\n",
      "Epoch 34/100\n",
      "21480/21480 [==============================] - 5s 210us/step - loss: 0.4516 - accuracy: 0.8247\n",
      "Epoch 35/100\n",
      "21480/21480 [==============================] - 4s 208us/step - loss: 0.4409 - accuracy: 0.8233\n",
      "Epoch 36/100\n",
      "21480/21480 [==============================] - 5s 210us/step - loss: 0.4789 - accuracy: 0.8205\n",
      "Epoch 37/100\n",
      "21480/21480 [==============================] - 5s 210us/step - loss: 0.4643 - accuracy: 0.8224\n",
      "Epoch 38/100\n",
      "21480/21480 [==============================] - 4s 206us/step - loss: 0.4757 - accuracy: 0.8231\n",
      "Epoch 39/100\n",
      "21480/21480 [==============================] - 4s 209us/step - loss: 0.4539 - accuracy: 0.8207\n",
      "Epoch 40/100\n",
      "21480/21480 [==============================] - 4s 209us/step - loss: 0.4795 - accuracy: 0.8194\n",
      "Epoch 41/100\n",
      "21480/21480 [==============================] - 4s 208us/step - loss: 0.4625 - accuracy: 0.8291\n",
      "Epoch 42/100\n",
      "21480/21480 [==============================] - 5s 210us/step - loss: 0.4708 - accuracy: 0.8246\n",
      "Epoch 43/100\n",
      "21480/21480 [==============================] - 4s 208us/step - loss: 0.4457 - accuracy: 0.83530s\n",
      "Epoch 44/100\n",
      "21480/21480 [==============================] - 5s 210us/step - loss: 0.4475 - accuracy: 0.8302\n",
      "Epoch 45/100\n",
      "21480/21480 [==============================] - 5s 210us/step - loss: 0.4336 - accuracy: 0.8370\n",
      "Epoch 46/100\n",
      "21480/21480 [==============================] - 4s 209us/step - loss: 0.4827 - accuracy: 0.8261\n",
      "Epoch 47/100\n",
      "21480/21480 [==============================] - 5s 210us/step - loss: 0.4174 - accuracy: 0.8458\n",
      "Epoch 48/100\n",
      "21480/21480 [==============================] - 4s 207us/step - loss: 0.4676 - accuracy: 0.8219\n",
      "Epoch 49/100\n",
      "21480/21480 [==============================] - 5s 225us/step - loss: 0.4773 - accuracy: 0.8217\n",
      "Epoch 50/100\n",
      "21480/21480 [==============================] - 4s 209us/step - loss: 0.4899 - accuracy: 0.8208\n",
      "Epoch 51/100\n",
      "21480/21480 [==============================] - 4s 199us/step - loss: 0.4629 - accuracy: 0.8345\n",
      "Epoch 52/100\n",
      "21480/21480 [==============================] - 4s 199us/step - loss: 0.4323 - accuracy: 0.8408\n",
      "Epoch 53/100\n",
      "21480/21480 [==============================] - 4s 201us/step - loss: 0.4350 - accuracy: 0.8352\n",
      "Epoch 54/100\n",
      "21480/21480 [==============================] - 4s 200us/step - loss: 0.4330 - accuracy: 0.8415\n",
      "Epoch 55/100\n",
      "21480/21480 [==============================] - 4s 200us/step - loss: 0.4469 - accuracy: 0.8281\n",
      "Epoch 56/100\n",
      "21480/21480 [==============================] - 4s 201us/step - loss: 0.4306 - accuracy: 0.8388\n",
      "Epoch 57/100\n",
      "21480/21480 [==============================] - 4s 202us/step - loss: 0.4037 - accuracy: 0.8520\n",
      "Epoch 58/100\n",
      "21480/21480 [==============================] - 4s 201us/step - loss: 0.5630 - accuracy: 0.7882\n",
      "Epoch 59/100\n",
      "21480/21480 [==============================] - 4s 202us/step - loss: 0.4343 - accuracy: 0.8361\n",
      "Epoch 60/100\n",
      "21480/21480 [==============================] - 4s 203us/step - loss: 0.4121 - accuracy: 0.8468\n",
      "Epoch 61/100\n",
      "21480/21480 [==============================] - 4s 204us/step - loss: 0.4167 - accuracy: 0.8473\n",
      "Epoch 62/100\n",
      "21480/21480 [==============================] - 4s 203us/step - loss: 0.4255 - accuracy: 0.8489\n",
      "Epoch 63/100\n",
      "21480/21480 [==============================] - 4s 204us/step - loss: 0.4207 - accuracy: 0.8470\n",
      "Epoch 64/100\n",
      "21480/21480 [==============================] - 4s 204us/step - loss: 0.4102 - accuracy: 0.8511\n",
      "Epoch 65/100\n",
      "21480/21480 [==============================] - 4s 204us/step - loss: 0.4099 - accuracy: 0.8554\n",
      "Epoch 66/100\n",
      "21480/21480 [==============================] - 4s 205us/step - loss: 0.4255 - accuracy: 0.8487\n",
      "Epoch 67/100\n",
      "21480/21480 [==============================] - 4s 204us/step - loss: 0.4784 - accuracy: 0.8187\n",
      "Epoch 68/100\n",
      "21480/21480 [==============================] - 4s 205us/step - loss: 0.4436 - accuracy: 0.8392\n",
      "Epoch 69/100\n",
      "21480/21480 [==============================] - 4s 205us/step - loss: 0.4634 - accuracy: 0.8346\n",
      "Epoch 70/100\n",
      "21480/21480 [==============================] - 4s 205us/step - loss: 0.4255 - accuracy: 0.8439\n",
      "Epoch 71/100\n",
      "21480/21480 [==============================] - 5s 217us/step - loss: 0.4176 - accuracy: 0.8484\n",
      "Epoch 72/100\n",
      "21480/21480 [==============================] - 4s 207us/step - loss: 0.3981 - accuracy: 0.8582\n",
      "Epoch 73/100\n",
      "21480/21480 [==============================] - 5s 218us/step - loss: 0.4109 - accuracy: 0.8471\n",
      "Epoch 74/100\n",
      "21480/21480 [==============================] - 5s 233us/step - loss: 0.4197 - accuracy: 0.8390\n",
      "Epoch 75/100\n",
      "21480/21480 [==============================] - 4s 205us/step - loss: 0.4090 - accuracy: 0.8456\n",
      "Epoch 76/100\n",
      "21480/21480 [==============================] - 4s 205us/step - loss: 0.3920 - accuracy: 0.8580\n",
      "Epoch 77/100\n",
      "21480/21480 [==============================] - 4s 205us/step - loss: 0.5148 - accuracy: 0.8026\n",
      "Epoch 78/100\n",
      "21480/21480 [==============================] - 4s 204us/step - loss: 0.3871 - accuracy: 0.8567\n",
      "Epoch 79/100\n",
      "21480/21480 [==============================] - 4s 206us/step - loss: 0.3935 - accuracy: 0.8628\n",
      "Epoch 80/100\n",
      "21480/21480 [==============================] - 4s 204us/step - loss: 0.4383 - accuracy: 0.8437\n",
      "Epoch 81/100\n",
      "21480/21480 [==============================] - 7s 326us/step - loss: 0.4036 - accuracy: 0.85160s - loss: 0.4000 - accuracy\n",
      "Epoch 82/100\n",
      "21480/21480 [==============================] - 4s 205us/step - loss: 0.3919 - accuracy: 0.8617\n",
      "Epoch 83/100\n",
      "21480/21480 [==============================] - 4s 206us/step - loss: 0.3955 - accuracy: 0.8539\n",
      "Epoch 84/100\n",
      "21480/21480 [==============================] - 5s 214us/step - loss: 0.3952 - accuracy: 0.8542\n",
      "Epoch 85/100\n",
      "21480/21480 [==============================] - 4s 208us/step - loss: 0.4111 - accuracy: 0.8471\n",
      "Epoch 86/100\n",
      "21480/21480 [==============================] - 4s 205us/step - loss: 0.3885 - accuracy: 0.8554\n",
      "Epoch 87/100\n",
      "21480/21480 [==============================] - 4s 207us/step - loss: 0.3997 - accuracy: 0.8502\n",
      "Epoch 88/100\n",
      "21480/21480 [==============================] - 4s 209us/step - loss: 0.4167 - accuracy: 0.8544\n",
      "Epoch 89/100\n",
      "21480/21480 [==============================] - 5s 235us/step - loss: 0.3672 - accuracy: 0.8635\n",
      "Epoch 90/100\n",
      "21480/21480 [==============================] - 4s 208us/step - loss: 0.3978 - accuracy: 0.8557\n",
      "Epoch 91/100\n",
      "21480/21480 [==============================] - 4s 208us/step - loss: 0.3980 - accuracy: 0.8499\n",
      "Epoch 92/100\n",
      "21480/21480 [==============================] - 4s 207us/step - loss: 0.3767 - accuracy: 0.8584\n",
      "Epoch 93/100\n",
      "21480/21480 [==============================] - 5s 218us/step - loss: 0.3995 - accuracy: 0.8534\n",
      "Epoch 94/100\n",
      "21480/21480 [==============================] - 5s 232us/step - loss: 0.3751 - accuracy: 0.8586\n",
      "Epoch 95/100\n",
      "21480/21480 [==============================] - 4s 204us/step - loss: 0.4111 - accuracy: 0.8447\n",
      "Epoch 96/100\n",
      "21480/21480 [==============================] - 5s 217us/step - loss: 0.3893 - accuracy: 0.8554\n",
      "Epoch 97/100\n",
      "21480/21480 [==============================] - 4s 203us/step - loss: 0.3778 - accuracy: 0.8581\n",
      "Epoch 98/100\n",
      "21480/21480 [==============================] - 4s 208us/step - loss: 0.3963 - accuracy: 0.8518\n",
      "Epoch 99/100\n",
      "21480/21480 [==============================] - 5s 215us/step - loss: 0.3945 - accuracy: 0.8586\n",
      "Epoch 100/100\n",
      "21480/21480 [==============================] - 4s 204us/step - loss: 0.4073 - accuracy: 0.8532\n"
     ]
    },
    {
     "data": {
      "text/plain": [
       "<keras.callbacks.callbacks.History at 0x7fc0e4395110>"
      ]
     },
     "execution_count": 22,
     "metadata": {},
     "output_type": "execute_result"
    }
   ],
   "source": [
    "estimator = KerasClassifier(build_fn=breed_model, epochs=100, batch_size=5, verbose=1)\n",
    "estimator.fit(X_train_breed,pd.get_dummies(pd.DataFrame(y_train_breed).astype(str)).values)"
   ]
  },
  {
   "cell_type": "code",
   "execution_count": 23,
   "metadata": {},
   "outputs": [
    {
     "name": "stdout",
     "output_type": "stream",
     "text": [
      "Epoch 1/100\n",
      "33844/33844 [==============================] - 7s 204us/step - loss: 2.2212 - accuracy: 0.2514\n",
      "Epoch 2/100\n",
      "33844/33844 [==============================] - 7s 194us/step - loss: 1.3886 - accuracy: 0.2531\n",
      "Epoch 3/100\n",
      "33844/33844 [==============================] - 7s 196us/step - loss: 1.3886 - accuracy: 0.2483\n",
      "Epoch 4/100\n",
      "33844/33844 [==============================] - 7s 195us/step - loss: 1.3867 - accuracy: 0.2501\n",
      "Epoch 5/100\n",
      "33844/33844 [==============================] - 7s 196us/step - loss: 1.3879 - accuracy: 0.2442\n",
      "Epoch 6/100\n",
      "33844/33844 [==============================] - 7s 196us/step - loss: 1.3864 - accuracy: 0.2508\n",
      "Epoch 7/100\n",
      "33844/33844 [==============================] - 7s 197us/step - loss: 1.3894 - accuracy: 0.2453\n",
      "Epoch 8/100\n",
      "33844/33844 [==============================] - 7s 196us/step - loss: 1.3727 - accuracy: 0.2714\n",
      "Epoch 9/100\n",
      "33844/33844 [==============================] - 7s 197us/step - loss: 1.3464 - accuracy: 0.2929\n",
      "Epoch 10/100\n",
      "33844/33844 [==============================] - 7s 197us/step - loss: 1.2383 - accuracy: 0.3864\n",
      "Epoch 11/100\n",
      "33844/33844 [==============================] - 7s 198us/step - loss: 1.1160 - accuracy: 0.4870\n",
      "Epoch 12/100\n",
      "33844/33844 [==============================] - 7s 198us/step - loss: 1.0312 - accuracy: 0.5348\n",
      "Epoch 13/100\n",
      "33844/33844 [==============================] - 7s 198us/step - loss: 0.9517 - accuracy: 0.5836\n",
      "Epoch 14/100\n",
      "33844/33844 [==============================] - 7s 198us/step - loss: 0.9271 - accuracy: 0.60200s - loss: 0.9282 - accuracy: \n",
      "Epoch 15/100\n",
      "33844/33844 [==============================] - 7s 198us/step - loss: 0.9108 - accuracy: 0.6167\n",
      "Epoch 16/100\n",
      "33844/33844 [==============================] - 7s 198us/step - loss: 0.8984 - accuracy: 0.6282\n",
      "Epoch 17/100\n",
      "33844/33844 [==============================] - 7s 198us/step - loss: 0.8762 - accuracy: 0.6387\n",
      "Epoch 18/100\n",
      "33844/33844 [==============================] - 7s 203us/step - loss: 0.8552 - accuracy: 0.6503\n",
      "Epoch 19/100\n",
      "33844/33844 [==============================] - 7s 201us/step - loss: 0.8436 - accuracy: 0.6534\n",
      "Epoch 20/100\n",
      "33844/33844 [==============================] - 7s 199us/step - loss: 0.8452 - accuracy: 0.6518\n",
      "Epoch 21/100\n",
      "33844/33844 [==============================] - 7s 198us/step - loss: 0.8408 - accuracy: 0.6580\n",
      "Epoch 22/100\n",
      "33844/33844 [==============================] - 7s 199us/step - loss: 0.8456 - accuracy: 0.6550\n",
      "Epoch 23/100\n",
      "33844/33844 [==============================] - 7s 199us/step - loss: 0.8248 - accuracy: 0.6697\n",
      "Epoch 24/100\n",
      "33844/33844 [==============================] - 7s 199us/step - loss: 0.8222 - accuracy: 0.6687\n",
      "Epoch 25/100\n",
      "33844/33844 [==============================] - 7s 199us/step - loss: 0.8175 - accuracy: 0.6721\n",
      "Epoch 26/100\n",
      "33844/33844 [==============================] - 7s 201us/step - loss: 0.8221 - accuracy: 0.6694\n",
      "Epoch 27/100\n",
      "33844/33844 [==============================] - 7s 200us/step - loss: 0.8253 - accuracy: 0.6705\n",
      "Epoch 28/100\n",
      "33844/33844 [==============================] - 7s 201us/step - loss: 0.8131 - accuracy: 0.6764\n",
      "Epoch 29/100\n",
      "33844/33844 [==============================] - 7s 201us/step - loss: 0.8117 - accuracy: 0.6766\n",
      "Epoch 30/100\n",
      "33844/33844 [==============================] - 8s 231us/step - loss: 0.8104 - accuracy: 0.6744\n",
      "Epoch 31/100\n",
      "33844/33844 [==============================] - 8s 241us/step - loss: 0.8056 - accuracy: 0.6770\n",
      "Epoch 32/100\n",
      "33844/33844 [==============================] - 9s 263us/step - loss: 0.8066 - accuracy: 0.6761\n",
      "Epoch 33/100\n",
      "33844/33844 [==============================] - 10s 292us/step - loss: 0.8035 - accuracy: 0.6764s - loss:\n",
      "Epoch 34/100\n",
      "33844/33844 [==============================] - 9s 256us/step - loss: 0.7975 - accuracy: 0.68230s - loss: 0.7973 - \n",
      "Epoch 35/100\n",
      "33844/33844 [==============================] - 8s 244us/step - loss: 0.7971 - accuracy: 0.6818\n",
      "Epoch 36/100\n",
      "33844/33844 [==============================] - 10s 292us/step - loss: 0.7949 - accuracy: 0.6860\n",
      "Epoch 37/100\n",
      "33844/33844 [==============================] - 7s 212us/step - loss: 0.8033 - accuracy: 0.6781\n",
      "Epoch 38/100\n",
      "33844/33844 [==============================] - 7s 213us/step - loss: 0.7980 - accuracy: 0.6811\n",
      "Epoch 39/100\n",
      "33844/33844 [==============================] - 7s 213us/step - loss: 0.7927 - accuracy: 0.6841\n",
      "Epoch 40/100\n",
      "33844/33844 [==============================] - 7s 215us/step - loss: 0.7948 - accuracy: 0.6828\n",
      "Epoch 41/100\n",
      "33844/33844 [==============================] - 7s 210us/step - loss: 0.7998 - accuracy: 0.6851\n",
      "Epoch 42/100\n",
      "33844/33844 [==============================] - 7s 206us/step - loss: 0.7981 - accuracy: 0.6846\n",
      "Epoch 43/100\n",
      "33844/33844 [==============================] - 8s 227us/step - loss: 0.7921 - accuracy: 0.6860\n",
      "Epoch 44/100\n",
      "33844/33844 [==============================] - 7s 206us/step - loss: 0.7895 - accuracy: 0.6890\n",
      "Epoch 45/100\n",
      "33844/33844 [==============================] - 7s 208us/step - loss: 0.7890 - accuracy: 0.6872\n",
      "Epoch 46/100\n",
      "33844/33844 [==============================] - 7s 206us/step - loss: 0.7990 - accuracy: 0.6827\n",
      "Epoch 47/100\n",
      "33844/33844 [==============================] - 7s 220us/step - loss: 0.7828 - accuracy: 0.6889\n",
      "Epoch 48/100\n",
      "33844/33844 [==============================] - 8s 245us/step - loss: 0.7875 - accuracy: 0.6874\n",
      "Epoch 49/100\n",
      "33844/33844 [==============================] - 10s 283us/step - loss: 0.8035 - accuracy: 0.6838\n",
      "Epoch 50/100\n",
      "33844/33844 [==============================] - 10s 291us/step - loss: 0.7785 - accuracy: 0.6924\n",
      "Epoch 51/100\n",
      "33844/33844 [==============================] - 10s 310us/step - loss: 0.7813 - accuracy: 0.6949s - loss: 0\n",
      "Epoch 52/100\n",
      "33844/33844 [==============================] - 13s 376us/step - loss: 0.7910 - accuracy: 0.6899\n",
      "Epoch 53/100\n",
      "33844/33844 [==============================] - 9s 272us/step - loss: 0.7808 - accuracy: 0.6887\n",
      "Epoch 54/100\n",
      "33844/33844 [==============================] - 8s 241us/step - loss: 0.7888 - accuracy: 0.6881\n",
      "Epoch 55/100\n",
      "33844/33844 [==============================] - 7s 204us/step - loss: 0.7738 - accuracy: 0.6950\n",
      "Epoch 56/100\n",
      "33844/33844 [==============================] - 7s 204us/step - loss: 0.7874 - accuracy: 0.6870\n",
      "Epoch 57/100\n",
      "33844/33844 [==============================] - 7s 205us/step - loss: 0.7868 - accuracy: 0.6899\n",
      "Epoch 58/100\n",
      "33844/33844 [==============================] - 7s 205us/step - loss: 0.7740 - accuracy: 0.6924\n",
      "Epoch 59/100\n",
      "33844/33844 [==============================] - 7s 208us/step - loss: 0.7888 - accuracy: 0.6867\n",
      "Epoch 60/100\n",
      "33844/33844 [==============================] - 7s 204us/step - loss: 0.7793 - accuracy: 0.6953\n",
      "Epoch 61/100\n",
      "33844/33844 [==============================] - 7s 212us/step - loss: 0.7874 - accuracy: 0.6907\n",
      "Epoch 62/100\n",
      "33844/33844 [==============================] - 7s 203us/step - loss: 0.7733 - accuracy: 0.6921\n",
      "Epoch 63/100\n",
      "33844/33844 [==============================] - 8s 230us/step - loss: 0.7845 - accuracy: 0.69460s - loss: 0.7818 - accuracy:  - ETA: 0s - loss: 0.7829 - accuracy:  - ETA: 0s - loss: 0.7844 - accuracy: \n",
      "Epoch 64/100\n",
      "33844/33844 [==============================] - 8s 234us/step - loss: 0.7831 - accuracy: 0.6907\n",
      "Epoch 65/100\n",
      "33844/33844 [==============================] - 10s 305us/step - loss: 0.7953 - accuracy: 0.6889\n",
      "Epoch 66/100\n",
      "33844/33844 [==============================] - 9s 264us/step - loss: 0.7776 - accuracy: 0.6946\n",
      "Epoch 67/100\n",
      "33844/33844 [==============================] - 7s 193us/step - loss: 0.7763 - accuracy: 0.6964\n",
      "Epoch 68/100\n",
      "33844/33844 [==============================] - 9s 257us/step - loss: 0.7769 - accuracy: 0.6940\n",
      "Epoch 69/100\n",
      "33844/33844 [==============================] - 8s 223us/step - loss: 0.7827 - accuracy: 0.6960\n",
      "Epoch 70/100\n",
      "33844/33844 [==============================] - 8s 237us/step - loss: 0.7675 - accuracy: 0.7003\n",
      "Epoch 71/100\n",
      "33844/33844 [==============================] - 8s 238us/step - loss: 0.7741 - accuracy: 0.6973\n",
      "Epoch 72/100\n",
      "33844/33844 [==============================] - 7s 221us/step - loss: 0.7672 - accuracy: 0.7030\n",
      "Epoch 73/100\n",
      "33844/33844 [==============================] - 8s 241us/step - loss: 0.7633 - accuracy: 0.7020\n",
      "Epoch 74/100\n",
      "33844/33844 [==============================] - 7s 214us/step - loss: 0.7633 - accuracy: 0.7007\n",
      "Epoch 75/100\n",
      "33844/33844 [==============================] - 7s 217us/step - loss: 0.7700 - accuracy: 0.6966\n",
      "Epoch 76/100\n",
      "33844/33844 [==============================] - 7s 208us/step - loss: 0.7668 - accuracy: 0.6995\n",
      "Epoch 77/100\n",
      "33844/33844 [==============================] - 9s 268us/step - loss: 0.7683 - accuracy: 0.7007\n",
      "Epoch 78/100\n",
      "33844/33844 [==============================] - 8s 249us/step - loss: 0.7682 - accuracy: 0.70240s - - ETA: 0s - loss: 0.7691 - accura\n",
      "Epoch 79/100\n",
      "33844/33844 [==============================] - 8s 230us/step - loss: 0.7750 - accuracy: 0.6983\n",
      "Epoch 80/100\n",
      "33844/33844 [==============================] - 6s 189us/step - loss: 0.7707 - accuracy: 0.69990s -\n",
      "Epoch 81/100\n",
      "33844/33844 [==============================] - 7s 215us/step - loss: 0.7749 - accuracy: 0.7006\n",
      "Epoch 82/100\n",
      "33844/33844 [==============================] - 7s 209us/step - loss: 0.7599 - accuracy: 0.7061\n",
      "Epoch 83/100\n",
      "33844/33844 [==============================] - 7s 213us/step - loss: 0.7748 - accuracy: 0.6955\n",
      "Epoch 84/100\n",
      "33844/33844 [==============================] - 8s 228us/step - loss: 0.7733 - accuracy: 0.7060\n",
      "Epoch 85/100\n",
      "33844/33844 [==============================] - 7s 221us/step - loss: 0.7657 - accuracy: 0.6996\n",
      "Epoch 86/100\n",
      "33844/33844 [==============================] - 9s 262us/step - loss: 0.7624 - accuracy: 0.7062\n",
      "Epoch 87/100\n",
      "33844/33844 [==============================] - 8s 243us/step - loss: 0.7633 - accuracy: 0.7015\n",
      "Epoch 88/100\n",
      "33844/33844 [==============================] - 7s 212us/step - loss: 0.7633 - accuracy: 0.7024\n",
      "Epoch 89/100\n",
      "33844/33844 [==============================] - 8s 230us/step - loss: 0.7589 - accuracy: 0.7052\n",
      "Epoch 90/100\n",
      "33844/33844 [==============================] - 8s 237us/step - loss: 0.7605 - accuracy: 0.7056\n",
      "Epoch 91/100\n",
      "33844/33844 [==============================] - 7s 217us/step - loss: 0.7537 - accuracy: 0.7046\n",
      "Epoch 92/100\n",
      "33844/33844 [==============================] - 7s 201us/step - loss: 0.7655 - accuracy: 0.7015\n",
      "Epoch 93/100\n",
      "33844/33844 [==============================] - 7s 193us/step - loss: 0.7650 - accuracy: 0.7029\n",
      "Epoch 94/100\n",
      "33844/33844 [==============================] - 8s 231us/step - loss: 0.7633 - accuracy: 0.7051\n",
      "Epoch 95/100\n",
      "33844/33844 [==============================] - 6s 190us/step - loss: 0.7783 - accuracy: 0.7004\n",
      "Epoch 96/100\n",
      "33844/33844 [==============================] - 6s 189us/step - loss: 0.7614 - accuracy: 0.7055\n",
      "Epoch 97/100\n",
      "33844/33844 [==============================] - 7s 193us/step - loss: 0.7645 - accuracy: 0.7041\n",
      "Epoch 98/100\n",
      "33844/33844 [==============================] - 6s 189us/step - loss: 0.7543 - accuracy: 0.7053\n",
      "Epoch 99/100\n",
      "33844/33844 [==============================] - 8s 222us/step - loss: 0.7654 - accuracy: 0.7038\n",
      "Epoch 100/100\n",
      "33844/33844 [==============================] - 7s 207us/step - loss: 0.7373 - accuracy: 0.7164\n"
     ]
    },
    {
     "data": {
      "text/plain": [
       "<keras.callbacks.callbacks.History at 0x7fc0e4b51f50>"
      ]
     },
     "execution_count": 23,
     "metadata": {},
     "output_type": "execute_result"
    }
   ],
   "source": [
    "estimator_pet = KerasClassifier(build_fn=pet_model, epochs=100, batch_size=5, verbose=1)\n",
    "estimator_pet.fit(X_train_pet,pd.get_dummies(pd.DataFrame(y_train_pet).astype(str)).values)"
   ]
  },
  {
   "cell_type": "code",
   "execution_count": 24,
   "metadata": {},
   "outputs": [
    {
     "name": "stdout",
     "output_type": "stream",
     "text": [
      "3767/3767 [==============================] - 0s 76us/step\n"
     ]
    }
   ],
   "source": [
    "breed_preds = estimator.predict(X_test_breed)"
   ]
  },
  {
   "cell_type": "code",
   "execution_count": 25,
   "metadata": {},
   "outputs": [
    {
     "name": "stdout",
     "output_type": "stream",
     "text": [
      "3767/3767 [==============================] - 0s 74us/step\n"
     ]
    }
   ],
   "source": [
    "pet_preds = estimator_pet.predict(X_test_pet)"
   ]
  },
  {
   "cell_type": "code",
   "execution_count": 28,
   "metadata": {},
   "outputs": [
    {
     "data": {
      "text/plain": [
       "array([[1839,    0,    1],\n",
       "       [ 379, 1276,    2],\n",
       "       [   0,    1,  269]])"
      ]
     },
     "execution_count": 28,
     "metadata": {},
     "output_type": "execute_result"
    }
   ],
   "source": [
    "confusion_matrix(y_test_breed, breed_preds)"
   ]
  },
  {
   "cell_type": "code",
   "execution_count": 29,
   "metadata": {},
   "outputs": [
    {
     "data": {
      "text/plain": [
       "array([[   7,    0,    2,    4,    0],\n",
       "       [  54,  962,  379,    4,    0],\n",
       "       [ 182,  132, 1844,    2,    0],\n",
       "       [   0,    0,    0,    0,    0],\n",
       "       [  69,    4,   26,   96,    0]])"
      ]
     },
     "execution_count": 29,
     "metadata": {},
     "output_type": "execute_result"
    }
   ],
   "source": [
    "confusion_matrix(y_test_pet, pet_preds)"
   ]
  },
  {
   "cell_type": "code",
   "execution_count": 33,
   "metadata": {},
   "outputs": [
    {
     "name": "stdout",
     "output_type": "stream",
     "text": [
      "8072/8072 [==============================] - 1s 67us/step\n",
      "8072/8072 [==============================] - 1s 70us/step\n"
     ]
    }
   ],
   "source": [
    "breed_preds = estimator.predict(main_test)\n",
    "pet_preds = estimator_pet.predict(main_test)"
   ]
  },
  {
   "cell_type": "code",
   "execution_count": 34,
   "metadata": {},
   "outputs": [],
   "source": [
    "submission = pd.DataFrame()"
   ]
  },
  {
   "cell_type": "code",
   "execution_count": 35,
   "metadata": {},
   "outputs": [],
   "source": [
    "submission['pet_id'] = soln_df.pet_id"
   ]
  },
  {
   "cell_type": "code",
   "execution_count": 36,
   "metadata": {},
   "outputs": [],
   "source": [
    "submission['breed_category'] = breed_preds"
   ]
  },
  {
   "cell_type": "code",
   "execution_count": 37,
   "metadata": {},
   "outputs": [],
   "source": [
    "submission['pet_category'] = pet_preds"
   ]
  },
  {
   "cell_type": "code",
   "execution_count": 38,
   "metadata": {},
   "outputs": [],
   "source": [
    "submission.breed_category = submission.breed_category.astype('int64')"
   ]
  },
  {
   "cell_type": "code",
   "execution_count": 39,
   "metadata": {},
   "outputs": [
    {
     "data": {
      "text/html": [
       "<div>\n",
       "<style scoped>\n",
       "    .dataframe tbody tr th:only-of-type {\n",
       "        vertical-align: middle;\n",
       "    }\n",
       "\n",
       "    .dataframe tbody tr th {\n",
       "        vertical-align: top;\n",
       "    }\n",
       "\n",
       "    .dataframe thead th {\n",
       "        text-align: right;\n",
       "    }\n",
       "</style>\n",
       "<table border=\"1\" class=\"dataframe\">\n",
       "  <thead>\n",
       "    <tr style=\"text-align: right;\">\n",
       "      <th></th>\n",
       "      <th>pet_id</th>\n",
       "      <th>breed_category</th>\n",
       "      <th>pet_category</th>\n",
       "    </tr>\n",
       "  </thead>\n",
       "  <tbody>\n",
       "    <tr>\n",
       "      <th>0</th>\n",
       "      <td>ANSL_75005</td>\n",
       "      <td>1</td>\n",
       "      <td>2</td>\n",
       "    </tr>\n",
       "    <tr>\n",
       "      <th>1</th>\n",
       "      <td>ANSL_76663</td>\n",
       "      <td>0</td>\n",
       "      <td>1</td>\n",
       "    </tr>\n",
       "    <tr>\n",
       "      <th>2</th>\n",
       "      <td>ANSL_58259</td>\n",
       "      <td>0</td>\n",
       "      <td>2</td>\n",
       "    </tr>\n",
       "    <tr>\n",
       "      <th>3</th>\n",
       "      <td>ANSL_67171</td>\n",
       "      <td>0</td>\n",
       "      <td>2</td>\n",
       "    </tr>\n",
       "    <tr>\n",
       "      <th>4</th>\n",
       "      <td>ANSL_72871</td>\n",
       "      <td>0</td>\n",
       "      <td>2</td>\n",
       "    </tr>\n",
       "    <tr>\n",
       "      <th>...</th>\n",
       "      <td>...</td>\n",
       "      <td>...</td>\n",
       "      <td>...</td>\n",
       "    </tr>\n",
       "    <tr>\n",
       "      <th>8067</th>\n",
       "      <td>ANSL_66809</td>\n",
       "      <td>0</td>\n",
       "      <td>0</td>\n",
       "    </tr>\n",
       "    <tr>\n",
       "      <th>8068</th>\n",
       "      <td>ANSL_59041</td>\n",
       "      <td>1</td>\n",
       "      <td>2</td>\n",
       "    </tr>\n",
       "    <tr>\n",
       "      <th>8069</th>\n",
       "      <td>ANSL_60034</td>\n",
       "      <td>1</td>\n",
       "      <td>2</td>\n",
       "    </tr>\n",
       "    <tr>\n",
       "      <th>8070</th>\n",
       "      <td>ANSL_58066</td>\n",
       "      <td>2</td>\n",
       "      <td>0</td>\n",
       "    </tr>\n",
       "    <tr>\n",
       "      <th>8071</th>\n",
       "      <td>ANSL_69436</td>\n",
       "      <td>1</td>\n",
       "      <td>2</td>\n",
       "    </tr>\n",
       "  </tbody>\n",
       "</table>\n",
       "<p>8072 rows × 3 columns</p>\n",
       "</div>"
      ],
      "text/plain": [
       "          pet_id  breed_category  pet_category\n",
       "0     ANSL_75005               1             2\n",
       "1     ANSL_76663               0             1\n",
       "2     ANSL_58259               0             2\n",
       "3     ANSL_67171               0             2\n",
       "4     ANSL_72871               0             2\n",
       "...          ...             ...           ...\n",
       "8067  ANSL_66809               0             0\n",
       "8068  ANSL_59041               1             2\n",
       "8069  ANSL_60034               1             2\n",
       "8070  ANSL_58066               2             0\n",
       "8071  ANSL_69436               1             2\n",
       "\n",
       "[8072 rows x 3 columns]"
      ]
     },
     "execution_count": 39,
     "metadata": {},
     "output_type": "execute_result"
    }
   ],
   "source": [
    "submission"
   ]
  },
  {
   "cell_type": "code",
   "execution_count": 40,
   "metadata": {},
   "outputs": [],
   "source": [
    "submission.to_csv('submission_3.csv',index=False)"
   ]
  },
  {
   "cell_type": "code",
   "execution_count": null,
   "metadata": {},
   "outputs": [],
   "source": []
  }
 ],
 "metadata": {
  "kernelspec": {
   "display_name": "Python 3",
   "language": "python",
   "name": "python3"
  },
  "language_info": {
   "codemirror_mode": {
    "name": "ipython",
    "version": 3
   },
   "file_extension": ".py",
   "mimetype": "text/x-python",
   "name": "python",
   "nbconvert_exporter": "python",
   "pygments_lexer": "ipython3",
   "version": "3.7.7"
  }
 },
 "nbformat": 4,
 "nbformat_minor": 4
}
