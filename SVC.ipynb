{
 "cells": [
  {
   "cell_type": "code",
   "execution_count": 1,
   "metadata": {},
   "outputs": [],
   "source": [
    "import pandas as pd\n",
    "import numpy as np\n",
    "import matplotlib.pyplot as plt\n",
    "import missingno as msno\n",
    "import seaborn as sns\n",
    "import pandas_profiling"
   ]
  },
  {
   "cell_type": "code",
   "execution_count": 2,
   "metadata": {},
   "outputs": [],
   "source": [
    "train_df = pd.read_csv('Dataset/train.csv')\n",
    "soln_df = pd.read_csv('Dataset/test.csv')"
   ]
  },
  {
   "cell_type": "code",
   "execution_count": 3,
   "metadata": {},
   "outputs": [],
   "source": [
    "train_df.drop(['pet_id'], axis = 1, inplace = True)\n",
    "main_test = soln_df.drop(['pet_id'], axis = 1)"
   ]
  },
  {
   "cell_type": "code",
   "execution_count": 4,
   "metadata": {},
   "outputs": [],
   "source": [
    "def pre_process(df):\n",
    "    df.condition.fillna(3, inplace=True)\n",
    "    df['time_to_shelter'] = (pd.to_datetime(df.listing_date) - pd.to_datetime(df.issue_date)).dt.days\n",
    "    df.drop(['issue_date','listing_date'], axis = 1, inplace=True)\n",
    "    \n",
    "    top_colors = [\n",
    "                     'Black',\n",
    "                     'White',\n",
    "                     'Brown',\n",
    "                     'Brown Tabby',\n",
    "                     'Tan',\n",
    "                     'Blue',\n",
    "                     'Orange Tabby',\n",
    "                     'Red',\n",
    "                     'Brown Brindle',\n",
    "                     'Tricolor',\n",
    "                     'Blue Tabby',\n",
    "                     'Tortie',\n",
    "                     'Calico',\n",
    "                     'Gray',\n",
    "                     'Chocolate',\n",
    "                     'Torbie',\n",
    "                     'Cream Tabby',\n",
    "                     'Sable',\n",
    "                     'Cream',\n",
    "                     'Fawn',\n",
    "                     'Yellow',\n",
    "                     'Buff',\n",
    "                     'Lynx Point',\n",
    "                     'Blue Merle'\n",
    "                ]\n",
    "    \n",
    "    def reduce_color(color):\n",
    "        if color in top_colors:\n",
    "            return color\n",
    "        return 'Other'\n",
    "    \n",
    "    df['color_mod'] = df.color_type.apply(reduce_color)\n",
    "    df.drop(['color_type'], axis = 1, inplace=True)\n",
    "    df.drop(['length(m)','height(cm)'], axis = 1, inplace= True)\n",
    "    \n",
    "    return df"
   ]
  },
  {
   "cell_type": "code",
   "execution_count": 5,
   "metadata": {},
   "outputs": [],
   "source": [
    "train_df = pre_process(train_df)\n",
    "main_test = pre_process(main_test)"
   ]
  },
  {
   "cell_type": "code",
   "execution_count": 6,
   "metadata": {},
   "outputs": [],
   "source": [
    "train_y1 = train_df.loc[:,['breed_category']]\n",
    "train_y2 = train_df.loc[:,['pet_category']]"
   ]
  },
  {
   "cell_type": "code",
   "execution_count": 7,
   "metadata": {},
   "outputs": [],
   "source": [
    "train_X = train_df.drop(['breed_category','pet_category'], axis=1)"
   ]
  },
  {
   "cell_type": "code",
   "execution_count": 8,
   "metadata": {},
   "outputs": [],
   "source": [
    "from sklearn.compose import ColumnTransformer\n",
    "from sklearn.preprocessing import LabelEncoder, OneHotEncoder"
   ]
  },
  {
   "cell_type": "code",
   "execution_count": 9,
   "metadata": {},
   "outputs": [
    {
     "data": {
      "text/plain": [
       "ColumnTransformer(n_jobs=None, remainder='passthrough', sparse_threshold=0.3,\n",
       "                  transformer_weights=None,\n",
       "                  transformers=[('color',\n",
       "                                 OneHotEncoder(categories='auto', drop='first',\n",
       "                                               dtype=<class 'numpy.float64'>,\n",
       "                                               handle_unknown='error',\n",
       "                                               sparse=False),\n",
       "                                 [4])],\n",
       "                  verbose=False)"
      ]
     },
     "execution_count": 9,
     "metadata": {},
     "output_type": "execute_result"
    }
   ],
   "source": [
    "ct = ColumnTransformer([(\"color\", OneHotEncoder(sparse=False, drop='first'), [4])], remainder = 'passthrough')\n",
    "ct.fit(train_X)"
   ]
  },
  {
   "cell_type": "code",
   "execution_count": 10,
   "metadata": {},
   "outputs": [],
   "source": [
    "train_X = ct.transform(train_X)\n",
    "main_test = ct.transform(main_test)"
   ]
  },
  {
   "cell_type": "code",
   "execution_count": 11,
   "metadata": {},
   "outputs": [
    {
     "name": "stdout",
     "output_type": "stream",
     "text": [
      "(18834, 28)\n",
      "(8072, 28)\n"
     ]
    }
   ],
   "source": [
    "print(train_X.shape)\n",
    "print(main_test.shape)"
   ]
  },
  {
   "cell_type": "code",
   "execution_count": 12,
   "metadata": {},
   "outputs": [],
   "source": [
    "from sklearn.preprocessing import StandardScaler\n",
    "\n",
    "scaler = StandardScaler()\n",
    "\n",
    "sc = scaler.fit(train_X)\n",
    "\n",
    "train_X = sc.transform(train_X)\n",
    "\n",
    "main_test = sc.transform(main_test)"
   ]
  },
  {
   "cell_type": "code",
   "execution_count": 13,
   "metadata": {},
   "outputs": [],
   "source": [
    "from sklearn.model_selection import train_test_split\n",
    "\n",
    "X_train_breed, X_test_breed, y_train_breed, y_test_breed = train_test_split(train_X, train_y1, test_size = 0.2)\n",
    "X_train_pet, X_test_pet, y_train_pet, y_test_pet = train_test_split(train_X, train_y2, test_size = 0.2)"
   ]
  },
  {
   "cell_type": "code",
   "execution_count": 14,
   "metadata": {},
   "outputs": [
    {
     "name": "stderr",
     "output_type": "stream",
     "text": [
      "Using TensorFlow backend.\n"
     ]
    }
   ],
   "source": [
    "from imblearn.over_sampling import RandomOverSampler\n",
    "os = RandomOverSampler()\n",
    "X_train_breed, y_train_breed = os.fit_resample(X_train_breed, y_train_breed)\n",
    "X_train_pet, y_train_pet = os.fit_resample(X_train_pet, y_train_pet)"
   ]
  },
  {
   "cell_type": "code",
   "execution_count": 16,
   "metadata": {},
   "outputs": [],
   "source": [
    "from sklearn.model_selection import RandomizedSearchCV, GridSearchCV\n",
    "from sklearn.model_selection import StratifiedKFold\n",
    "from sklearn.svm import SVC\n",
    "from sklearn.metrics import confusion_matrix "
   ]
  },
  {
   "cell_type": "code",
   "execution_count": 28,
   "metadata": {},
   "outputs": [
    {
     "name": "stdout",
     "output_type": "stream",
     "text": [
      "Fitting 5 folds for each of 10 candidates, totalling 50 fits\n",
      "[CV] kernel=rbf, degree=3, C=0.7 .....................................\n"
     ]
    },
    {
     "name": "stderr",
     "output_type": "stream",
     "text": [
      "[Parallel(n_jobs=1)]: Using backend SequentialBackend with 1 concurrent workers.\n"
     ]
    },
    {
     "name": "stdout",
     "output_type": "stream",
     "text": [
      "[CV] ......... kernel=rbf, degree=3, C=0.7, score=0.918, total=   6.7s\n",
      "[CV] kernel=rbf, degree=3, C=0.7 .....................................\n"
     ]
    },
    {
     "name": "stderr",
     "output_type": "stream",
     "text": [
      "[Parallel(n_jobs=1)]: Done   1 out of   1 | elapsed:    6.7s remaining:    0.0s\n"
     ]
    },
    {
     "name": "stdout",
     "output_type": "stream",
     "text": [
      "[CV] ......... kernel=rbf, degree=3, C=0.7, score=0.927, total=   6.8s\n",
      "[CV] kernel=rbf, degree=3, C=0.7 .....................................\n"
     ]
    },
    {
     "name": "stderr",
     "output_type": "stream",
     "text": [
      "[Parallel(n_jobs=1)]: Done   2 out of   2 | elapsed:   13.5s remaining:    0.0s\n"
     ]
    },
    {
     "name": "stdout",
     "output_type": "stream",
     "text": [
      "[CV] ......... kernel=rbf, degree=3, C=0.7, score=0.924, total=   6.7s\n",
      "[CV] kernel=rbf, degree=3, C=0.7 .....................................\n",
      "[CV] ......... kernel=rbf, degree=3, C=0.7, score=0.925, total=   6.4s\n",
      "[CV] kernel=rbf, degree=3, C=0.7 .....................................\n",
      "[CV] ......... kernel=rbf, degree=3, C=0.7, score=0.922, total=   6.4s\n",
      "[CV] kernel=sigmoid, degree=4, C=0.5 .................................\n",
      "[CV] ..... kernel=sigmoid, degree=4, C=0.5, score=0.807, total=   7.0s\n",
      "[CV] kernel=sigmoid, degree=4, C=0.5 .................................\n",
      "[CV] ..... kernel=sigmoid, degree=4, C=0.5, score=0.808, total=   7.4s\n",
      "[CV] kernel=sigmoid, degree=4, C=0.5 .................................\n",
      "[CV] ..... kernel=sigmoid, degree=4, C=0.5, score=0.824, total=   8.1s\n",
      "[CV] kernel=sigmoid, degree=4, C=0.5 .................................\n",
      "[CV] ..... kernel=sigmoid, degree=4, C=0.5, score=0.811, total=   7.3s\n",
      "[CV] kernel=sigmoid, degree=4, C=0.5 .................................\n",
      "[CV] ..... kernel=sigmoid, degree=4, C=0.5, score=0.811, total=   7.2s\n",
      "[CV] kernel=sigmoid, degree=2, C=0.7 .................................\n",
      "[CV] ..... kernel=sigmoid, degree=2, C=0.7, score=0.812, total=   6.4s\n",
      "[CV] kernel=sigmoid, degree=2, C=0.7 .................................\n",
      "[CV] ..... kernel=sigmoid, degree=2, C=0.7, score=0.818, total=   6.7s\n",
      "[CV] kernel=sigmoid, degree=2, C=0.7 .................................\n",
      "[CV] ..... kernel=sigmoid, degree=2, C=0.7, score=0.813, total=   7.7s\n",
      "[CV] kernel=sigmoid, degree=2, C=0.7 .................................\n",
      "[CV] ..... kernel=sigmoid, degree=2, C=0.7, score=0.821, total=   7.3s\n",
      "[CV] kernel=sigmoid, degree=2, C=0.7 .................................\n",
      "[CV] ..... kernel=sigmoid, degree=2, C=0.7, score=0.798, total=   5.8s\n",
      "[CV] kernel=sigmoid, degree=4, C=1 ...................................\n",
      "[CV] ....... kernel=sigmoid, degree=4, C=1, score=0.796, total=   5.8s\n",
      "[CV] kernel=sigmoid, degree=4, C=1 ...................................\n",
      "[CV] ....... kernel=sigmoid, degree=4, C=1, score=0.797, total=   6.8s\n",
      "[CV] kernel=sigmoid, degree=4, C=1 ...................................\n",
      "[CV] ....... kernel=sigmoid, degree=4, C=1, score=0.795, total=   6.6s\n",
      "[CV] kernel=sigmoid, degree=4, C=1 ...................................\n",
      "[CV] ....... kernel=sigmoid, degree=4, C=1, score=0.792, total=   6.1s\n",
      "[CV] kernel=sigmoid, degree=4, C=1 ...................................\n",
      "[CV] ....... kernel=sigmoid, degree=4, C=1, score=0.793, total=   6.9s\n",
      "[CV] kernel=linear, degree=7, C=0.7 ..................................\n",
      "[CV] ...... kernel=linear, degree=7, C=0.7, score=0.923, total=   4.2s\n",
      "[CV] kernel=linear, degree=7, C=0.7 ..................................\n",
      "[CV] ...... kernel=linear, degree=7, C=0.7, score=0.930, total=   4.4s\n",
      "[CV] kernel=linear, degree=7, C=0.7 ..................................\n",
      "[CV] ...... kernel=linear, degree=7, C=0.7, score=0.930, total=   4.5s\n",
      "[CV] kernel=linear, degree=7, C=0.7 ..................................\n",
      "[CV] ...... kernel=linear, degree=7, C=0.7, score=0.931, total=   4.7s\n",
      "[CV] kernel=linear, degree=7, C=0.7 ..................................\n",
      "[CV] ...... kernel=linear, degree=7, C=0.7, score=0.925, total=   4.3s\n",
      "[CV] kernel=poly, degree=2, C=0.7 ....................................\n",
      "[CV] ........ kernel=poly, degree=2, C=0.7, score=0.922, total=  11.1s\n",
      "[CV] kernel=poly, degree=2, C=0.7 ....................................\n",
      "[CV] ........ kernel=poly, degree=2, C=0.7, score=0.923, total=  12.4s\n",
      "[CV] kernel=poly, degree=2, C=0.7 ....................................\n",
      "[CV] ........ kernel=poly, degree=2, C=0.7, score=0.917, total=  13.2s\n",
      "[CV] kernel=poly, degree=2, C=0.7 ....................................\n",
      "[CV] ........ kernel=poly, degree=2, C=0.7, score=0.927, total=  15.9s\n",
      "[CV] kernel=poly, degree=2, C=0.7 ....................................\n",
      "[CV] ........ kernel=poly, degree=2, C=0.7, score=0.922, total=  15.1s\n",
      "[CV] kernel=rbf, degree=7, C=0.5 .....................................\n",
      "[CV] ......... kernel=rbf, degree=7, C=0.5, score=0.915, total=   6.9s\n",
      "[CV] kernel=rbf, degree=7, C=0.5 .....................................\n",
      "[CV] ......... kernel=rbf, degree=7, C=0.5, score=0.924, total=   7.0s\n",
      "[CV] kernel=rbf, degree=7, C=0.5 .....................................\n",
      "[CV] ......... kernel=rbf, degree=7, C=0.5, score=0.921, total=   6.7s\n",
      "[CV] kernel=rbf, degree=7, C=0.5 .....................................\n",
      "[CV] ......... kernel=rbf, degree=7, C=0.5, score=0.921, total=   6.8s\n",
      "[CV] kernel=rbf, degree=7, C=0.5 .....................................\n",
      "[CV] ......... kernel=rbf, degree=7, C=0.5, score=0.919, total=   6.8s\n",
      "[CV] kernel=poly, degree=4, C=0.7 ....................................\n",
      "[CV] ........ kernel=poly, degree=4, C=0.7, score=0.860, total=  11.5s\n",
      "[CV] kernel=poly, degree=4, C=0.7 ....................................\n",
      "[CV] ........ kernel=poly, degree=4, C=0.7, score=0.858, total=  12.0s\n",
      "[CV] kernel=poly, degree=4, C=0.7 ....................................\n",
      "[CV] ........ kernel=poly, degree=4, C=0.7, score=0.867, total=  12.0s\n",
      "[CV] kernel=poly, degree=4, C=0.7 ....................................\n",
      "[CV] ........ kernel=poly, degree=4, C=0.7, score=0.865, total=  12.3s\n",
      "[CV] kernel=poly, degree=4, C=0.7 ....................................\n",
      "[CV] ........ kernel=poly, degree=4, C=0.7, score=0.857, total=  12.5s\n",
      "[CV] kernel=sigmoid, degree=2, C=1 ...................................\n",
      "[CV] ....... kernel=sigmoid, degree=2, C=1, score=0.796, total=   5.8s\n",
      "[CV] kernel=sigmoid, degree=2, C=1 ...................................\n",
      "[CV] ....... kernel=sigmoid, degree=2, C=1, score=0.797, total=   6.8s\n",
      "[CV] kernel=sigmoid, degree=2, C=1 ...................................\n",
      "[CV] ....... kernel=sigmoid, degree=2, C=1, score=0.795, total=   6.9s\n",
      "[CV] kernel=sigmoid, degree=2, C=1 ...................................\n",
      "[CV] ....... kernel=sigmoid, degree=2, C=1, score=0.792, total=   5.9s\n",
      "[CV] kernel=sigmoid, degree=2, C=1 ...................................\n",
      "[CV] ....... kernel=sigmoid, degree=2, C=1, score=0.793, total=   6.8s\n",
      "[CV] kernel=sigmoid, degree=5, C=1.5 .................................\n",
      "[CV] ..... kernel=sigmoid, degree=5, C=1.5, score=0.786, total=   5.7s\n",
      "[CV] kernel=sigmoid, degree=5, C=1.5 .................................\n",
      "[CV] ..... kernel=sigmoid, degree=5, C=1.5, score=0.799, total=   6.2s\n",
      "[CV] kernel=sigmoid, degree=5, C=1.5 .................................\n",
      "[CV] ..... kernel=sigmoid, degree=5, C=1.5, score=0.802, total=   6.0s\n",
      "[CV] kernel=sigmoid, degree=5, C=1.5 .................................\n",
      "[CV] ..... kernel=sigmoid, degree=5, C=1.5, score=0.799, total=   6.2s\n",
      "[CV] kernel=sigmoid, degree=5, C=1.5 .................................\n",
      "[CV] ..... kernel=sigmoid, degree=5, C=1.5, score=0.788, total=   6.3s\n"
     ]
    },
    {
     "name": "stderr",
     "output_type": "stream",
     "text": [
      "[Parallel(n_jobs=1)]: Done  50 out of  50 | elapsed:  6.4min finished\n"
     ]
    },
    {
     "data": {
      "text/plain": [
       "RandomizedSearchCV(cv=<generator object _BaseKFold.split at 0x7fad5f676050>,\n",
       "                   error_score=nan,\n",
       "                   estimator=SVC(C=1.0, break_ties=False, cache_size=200,\n",
       "                                 class_weight=None, coef0=0.0,\n",
       "                                 decision_function_shape='ovr', degree=3,\n",
       "                                 gamma='scale', kernel='rbf', max_iter=-1,\n",
       "                                 probability=False, random_state=None,\n",
       "                                 shrinking=True, tol=0.001, verbose=False),\n",
       "                   iid='deprecated', n_iter=10, n_jobs=None,\n",
       "                   param_distributions={'C': [0.5, 0.7, 1, 1.5],\n",
       "                                        'degree': [2, 3, 4, 5, 7],\n",
       "                                        'kernel': ['linear', 'poly', 'rbf',\n",
       "                                                   'sigmoid']},\n",
       "                   pre_dispatch='2*n_jobs', random_state=None, refit=True,\n",
       "                   return_train_score=False, scoring=None, verbose=3)"
      ]
     },
     "execution_count": 28,
     "metadata": {},
     "output_type": "execute_result"
    }
   ],
   "source": [
    "params = {\n",
    "        'C': [0.5, 0.7, 1, 1.5],\n",
    "        'kernel' : ['linear', 'poly', 'rbf', 'sigmoid'],\n",
    "        'degree': [2, 3, 4, 5, 7]\n",
    "        }\n",
    "folds = 5\n",
    "skf = StratifiedKFold(n_splits=folds, shuffle = True)\n",
    "random_search = RandomizedSearchCV(SVC(), param_distributions=params, cv=skf.split(X_train_breed, y_train_breed), verbose=3)\n",
    "random_search.fit(X_train_breed, y_train_breed.breed_category.ravel())"
   ]
  },
  {
   "cell_type": "code",
   "execution_count": 29,
   "metadata": {},
   "outputs": [
    {
     "data": {
      "text/plain": [
       "{'kernel': 'linear', 'degree': 7, 'C': 0.7}"
      ]
     },
     "execution_count": 29,
     "metadata": {},
     "output_type": "execute_result"
    }
   ],
   "source": [
    "random_search.best_params_"
   ]
  },
  {
   "cell_type": "code",
   "execution_count": 30,
   "metadata": {},
   "outputs": [
    {
     "name": "stdout",
     "output_type": "stream",
     "text": [
      "Fitting 5 folds for each of 10 candidates, totalling 50 fits\n",
      "[CV] kernel=sigmoid, degree=7, C=0.7 .................................\n"
     ]
    },
    {
     "name": "stderr",
     "output_type": "stream",
     "text": [
      "[Parallel(n_jobs=1)]: Using backend SequentialBackend with 1 concurrent workers.\n"
     ]
    },
    {
     "name": "stdout",
     "output_type": "stream",
     "text": [
      "[CV] ..... kernel=sigmoid, degree=7, C=0.7, score=0.696, total=  19.9s\n",
      "[CV] kernel=sigmoid, degree=7, C=0.7 .................................\n"
     ]
    },
    {
     "name": "stderr",
     "output_type": "stream",
     "text": [
      "[Parallel(n_jobs=1)]: Done   1 out of   1 | elapsed:   19.9s remaining:    0.0s\n"
     ]
    },
    {
     "name": "stdout",
     "output_type": "stream",
     "text": [
      "[CV] ..... kernel=sigmoid, degree=7, C=0.7, score=0.693, total=  22.4s\n",
      "[CV] kernel=sigmoid, degree=7, C=0.7 .................................\n"
     ]
    },
    {
     "name": "stderr",
     "output_type": "stream",
     "text": [
      "[Parallel(n_jobs=1)]: Done   2 out of   2 | elapsed:   42.3s remaining:    0.0s\n"
     ]
    },
    {
     "name": "stdout",
     "output_type": "stream",
     "text": [
      "[CV] ..... kernel=sigmoid, degree=7, C=0.7, score=0.702, total=  23.0s\n",
      "[CV] kernel=sigmoid, degree=7, C=0.7 .................................\n",
      "[CV] ..... kernel=sigmoid, degree=7, C=0.7, score=0.691, total=  20.6s\n",
      "[CV] kernel=sigmoid, degree=7, C=0.7 .................................\n",
      "[CV] ..... kernel=sigmoid, degree=7, C=0.7, score=0.702, total=  26.3s\n",
      "[CV] kernel=rbf, degree=5, C=0.5 .....................................\n",
      "[CV] ......... kernel=rbf, degree=5, C=0.5, score=0.805, total=  18.7s\n",
      "[CV] kernel=rbf, degree=5, C=0.5 .....................................\n",
      "[CV] ......... kernel=rbf, degree=5, C=0.5, score=0.811, total=  18.8s\n",
      "[CV] kernel=rbf, degree=5, C=0.5 .....................................\n",
      "[CV] ......... kernel=rbf, degree=5, C=0.5, score=0.807, total=  18.4s\n",
      "[CV] kernel=rbf, degree=5, C=0.5 .....................................\n",
      "[CV] ......... kernel=rbf, degree=5, C=0.5, score=0.808, total=  19.1s\n",
      "[CV] kernel=rbf, degree=5, C=0.5 .....................................\n",
      "[CV] ......... kernel=rbf, degree=5, C=0.5, score=0.812, total=  18.8s\n",
      "[CV] kernel=rbf, degree=7, C=0.5 .....................................\n",
      "[CV] ......... kernel=rbf, degree=7, C=0.5, score=0.805, total=  19.5s\n",
      "[CV] kernel=rbf, degree=7, C=0.5 .....................................\n",
      "[CV] ......... kernel=rbf, degree=7, C=0.5, score=0.811, total=  18.9s\n",
      "[CV] kernel=rbf, degree=7, C=0.5 .....................................\n",
      "[CV] ......... kernel=rbf, degree=7, C=0.5, score=0.807, total=  18.6s\n",
      "[CV] kernel=rbf, degree=7, C=0.5 .....................................\n",
      "[CV] ......... kernel=rbf, degree=7, C=0.5, score=0.808, total=  19.1s\n",
      "[CV] kernel=rbf, degree=7, C=0.5 .....................................\n",
      "[CV] ......... kernel=rbf, degree=7, C=0.5, score=0.812, total=  18.8s\n",
      "[CV] kernel=sigmoid, degree=2, C=0.5 .................................\n",
      "[CV] ..... kernel=sigmoid, degree=2, C=0.5, score=0.718, total=  24.7s\n",
      "[CV] kernel=sigmoid, degree=2, C=0.5 .................................\n",
      "[CV] ..... kernel=sigmoid, degree=2, C=0.5, score=0.721, total=  25.6s\n",
      "[CV] kernel=sigmoid, degree=2, C=0.5 .................................\n",
      "[CV] ..... kernel=sigmoid, degree=2, C=0.5, score=0.706, total=  24.4s\n",
      "[CV] kernel=sigmoid, degree=2, C=0.5 .................................\n",
      "[CV] ..... kernel=sigmoid, degree=2, C=0.5, score=0.704, total=  26.4s\n",
      "[CV] kernel=sigmoid, degree=2, C=0.5 .................................\n",
      "[CV] ..... kernel=sigmoid, degree=2, C=0.5, score=0.705, total=  25.2s\n",
      "[CV] kernel=rbf, degree=2, C=0.7 .....................................\n",
      "[CV] ......... kernel=rbf, degree=2, C=0.7, score=0.811, total=  18.0s\n",
      "[CV] kernel=rbf, degree=2, C=0.7 .....................................\n",
      "[CV] ......... kernel=rbf, degree=2, C=0.7, score=0.817, total=  17.9s\n",
      "[CV] kernel=rbf, degree=2, C=0.7 .....................................\n",
      "[CV] ......... kernel=rbf, degree=2, C=0.7, score=0.813, total=  17.7s\n",
      "[CV] kernel=rbf, degree=2, C=0.7 .....................................\n",
      "[CV] ......... kernel=rbf, degree=2, C=0.7, score=0.814, total=  18.3s\n",
      "[CV] kernel=rbf, degree=2, C=0.7 .....................................\n",
      "[CV] ......... kernel=rbf, degree=2, C=0.7, score=0.815, total=  18.0s\n",
      "[CV] kernel=rbf, degree=4, C=1 .......................................\n",
      "[CV] ........... kernel=rbf, degree=4, C=1, score=0.818, total=  17.5s\n",
      "[CV] kernel=rbf, degree=4, C=1 .......................................\n",
      "[CV] ........... kernel=rbf, degree=4, C=1, score=0.819, total=  18.3s\n",
      "[CV] kernel=rbf, degree=4, C=1 .......................................\n",
      "[CV] ........... kernel=rbf, degree=4, C=1, score=0.818, total=  17.4s\n",
      "[CV] kernel=rbf, degree=4, C=1 .......................................\n",
      "[CV] ........... kernel=rbf, degree=4, C=1, score=0.824, total=  17.4s\n",
      "[CV] kernel=rbf, degree=4, C=1 .......................................\n",
      "[CV] ........... kernel=rbf, degree=4, C=1, score=0.822, total=  17.4s\n",
      "[CV] kernel=rbf, degree=7, C=1.5 .....................................\n",
      "[CV] ......... kernel=rbf, degree=7, C=1.5, score=0.828, total=  16.7s\n",
      "[CV] kernel=rbf, degree=7, C=1.5 .....................................\n",
      "[CV] ......... kernel=rbf, degree=7, C=1.5, score=0.832, total=  17.2s\n",
      "[CV] kernel=rbf, degree=7, C=1.5 .....................................\n",
      "[CV] ......... kernel=rbf, degree=7, C=1.5, score=0.830, total=  16.3s\n",
      "[CV] kernel=rbf, degree=7, C=1.5 .....................................\n",
      "[CV] ......... kernel=rbf, degree=7, C=1.5, score=0.831, total=  16.8s\n",
      "[CV] kernel=rbf, degree=7, C=1.5 .....................................\n",
      "[CV] ......... kernel=rbf, degree=7, C=1.5, score=0.838, total=  16.4s\n",
      "[CV] kernel=sigmoid, degree=2, C=1.5 .................................\n",
      "[CV] ..... kernel=sigmoid, degree=2, C=1.5, score=0.696, total=  19.3s\n",
      "[CV] kernel=sigmoid, degree=2, C=1.5 .................................\n",
      "[CV] ..... kernel=sigmoid, degree=2, C=1.5, score=0.691, total=  21.6s\n",
      "[CV] kernel=sigmoid, degree=2, C=1.5 .................................\n",
      "[CV] ..... kernel=sigmoid, degree=2, C=1.5, score=0.679, total=  23.0s\n",
      "[CV] kernel=sigmoid, degree=2, C=1.5 .................................\n",
      "[CV] ..... kernel=sigmoid, degree=2, C=1.5, score=0.699, total=  20.9s\n",
      "[CV] kernel=sigmoid, degree=2, C=1.5 .................................\n",
      "[CV] ..... kernel=sigmoid, degree=2, C=1.5, score=0.698, total=  19.4s\n",
      "[CV] kernel=rbf, degree=4, C=0.5 .....................................\n",
      "[CV] ......... kernel=rbf, degree=4, C=0.5, score=0.805, total=  18.7s\n",
      "[CV] kernel=rbf, degree=4, C=0.5 .....................................\n",
      "[CV] ......... kernel=rbf, degree=4, C=0.5, score=0.811, total=  18.8s\n",
      "[CV] kernel=rbf, degree=4, C=0.5 .....................................\n",
      "[CV] ......... kernel=rbf, degree=4, C=0.5, score=0.807, total=  18.5s\n",
      "[CV] kernel=rbf, degree=4, C=0.5 .....................................\n",
      "[CV] ......... kernel=rbf, degree=4, C=0.5, score=0.808, total=  19.1s\n",
      "[CV] kernel=rbf, degree=4, C=0.5 .....................................\n",
      "[CV] ......... kernel=rbf, degree=4, C=0.5, score=0.812, total=  18.8s\n",
      "[CV] kernel=linear, degree=2, C=0.5 ..................................\n",
      "[CV] ...... kernel=linear, degree=2, C=0.5, score=0.780, total=  21.0s\n",
      "[CV] kernel=linear, degree=2, C=0.5 ..................................\n",
      "[CV] ...... kernel=linear, degree=2, C=0.5, score=0.787, total=  19.8s\n",
      "[CV] kernel=linear, degree=2, C=0.5 ..................................\n",
      "[CV] ...... kernel=linear, degree=2, C=0.5, score=0.772, total=  19.2s\n",
      "[CV] kernel=linear, degree=2, C=0.5 ..................................\n",
      "[CV] ...... kernel=linear, degree=2, C=0.5, score=0.776, total=  21.2s\n",
      "[CV] kernel=linear, degree=2, C=0.5 ..................................\n",
      "[CV] ...... kernel=linear, degree=2, C=0.5, score=0.787, total=  21.3s\n"
     ]
    },
    {
     "name": "stderr",
     "output_type": "stream",
     "text": [
      "[Parallel(n_jobs=1)]: Done  50 out of  50 | elapsed: 16.5min finished\n"
     ]
    },
    {
     "data": {
      "text/plain": [
       "RandomizedSearchCV(cv=<generator object _BaseKFold.split at 0x7fad61dfd350>,\n",
       "                   error_score=nan,\n",
       "                   estimator=SVC(C=1.0, break_ties=False, cache_size=200,\n",
       "                                 class_weight=None, coef0=0.0,\n",
       "                                 decision_function_shape='ovr', degree=3,\n",
       "                                 gamma='scale', kernel='rbf', max_iter=-1,\n",
       "                                 probability=False, random_state=None,\n",
       "                                 shrinking=True, tol=0.001, verbose=False),\n",
       "                   iid='deprecated', n_iter=10, n_jobs=None,\n",
       "                   param_distributions={'C': [0.5, 0.7, 1, 1.5],\n",
       "                                        'degree': [2, 3, 4, 5, 7],\n",
       "                                        'kernel': ['linear', 'poly', 'rbf',\n",
       "                                                   'sigmoid']},\n",
       "                   pre_dispatch='2*n_jobs', random_state=None, refit=True,\n",
       "                   return_train_score=False, scoring=None, verbose=3)"
      ]
     },
     "execution_count": 30,
     "metadata": {},
     "output_type": "execute_result"
    }
   ],
   "source": [
    "params = {\n",
    "        'C': [0.5, 0.7, 1, 1.5],\n",
    "        'kernel' : ['linear', 'poly', 'rbf', 'sigmoid'],\n",
    "        'degree': [2, 3, 4, 5, 7]\n",
    "        }\n",
    "folds = 5\n",
    "skf = StratifiedKFold(n_splits=folds, shuffle = True)\n",
    "random_search = RandomizedSearchCV(SVC(), param_distributions=params, cv=skf.split(X_train_pet, y_train_pet), verbose=3)\n",
    "random_search.fit(X_train_pet, y_train_pet.pet_category.ravel())"
   ]
  },
  {
   "cell_type": "code",
   "execution_count": 31,
   "metadata": {},
   "outputs": [
    {
     "data": {
      "text/plain": [
       "{'kernel': 'rbf', 'degree': 7, 'C': 1.5}"
      ]
     },
     "execution_count": 31,
     "metadata": {},
     "output_type": "execute_result"
    }
   ],
   "source": [
    "random_search.best_params_"
   ]
  },
  {
   "cell_type": "code",
   "execution_count": null,
   "metadata": {},
   "outputs": [],
   "source": []
  },
  {
   "cell_type": "code",
   "execution_count": 32,
   "metadata": {},
   "outputs": [
    {
     "name": "stderr",
     "output_type": "stream",
     "text": [
      "/Users/parth/miniconda3/envs/mlenv/lib/python3.7/site-packages/sklearn/utils/validation.py:760: DataConversionWarning: A column-vector y was passed when a 1d array was expected. Please change the shape of y to (n_samples, ), for example using ravel().\n",
      "  y = column_or_1d(y, warn=True)\n"
     ]
    },
    {
     "data": {
      "text/plain": [
       "array([[1786,    1,    0],\n",
       "       [ 398, 1284,    0],\n",
       "       [   0,    0,  298]])"
      ]
     },
     "execution_count": 32,
     "metadata": {},
     "output_type": "execute_result"
    }
   ],
   "source": [
    "breed_model = SVC(kernel = 'linear', degree = 7, C = 0.7)\n",
    "\n",
    "breed_model.fit(X_train_breed, y_train_breed)\n",
    "\n",
    "breed_test_preds = breed_model.predict(X_test_breed) \n",
    "\n",
    "confusion_matrix(y_test_breed, breed_test_preds) "
   ]
  },
  {
   "cell_type": "code",
   "execution_count": 33,
   "metadata": {},
   "outputs": [
    {
     "name": "stderr",
     "output_type": "stream",
     "text": [
      "/Users/parth/miniconda3/envs/mlenv/lib/python3.7/site-packages/sklearn/utils/validation.py:760: DataConversionWarning: A column-vector y was passed when a 1d array was expected. Please change the shape of y to (n_samples, ), for example using ravel().\n",
      "  y = column_or_1d(y, warn=True)\n"
     ]
    },
    {
     "data": {
      "text/plain": [
       "array([[  10,    3,    1,    4],\n",
       "       [  46, 1175,  220,   16],\n",
       "       [  79,  173, 1830,   16],\n",
       "       [  33,    3,   20,  138]])"
      ]
     },
     "execution_count": 33,
     "metadata": {},
     "output_type": "execute_result"
    }
   ],
   "source": [
    "pet_model = SVC(kernel = 'rbf', degree = 7, C = 1.5)\n",
    "\n",
    "pet_model.fit(X_train_pet, y_train_pet)\n",
    "\n",
    "pet_test_preds = pet_model.predict(X_test_pet) \n",
    "\n",
    "confusion_matrix(y_test_pet, pet_test_preds) "
   ]
  },
  {
   "cell_type": "code",
   "execution_count": null,
   "metadata": {},
   "outputs": [],
   "source": []
  },
  {
   "cell_type": "code",
   "execution_count": null,
   "metadata": {},
   "outputs": [],
   "source": []
  },
  {
   "cell_type": "code",
   "execution_count": 34,
   "metadata": {},
   "outputs": [],
   "source": [
    "breed_preds = breed_model.predict(main_test)"
   ]
  },
  {
   "cell_type": "code",
   "execution_count": 35,
   "metadata": {},
   "outputs": [],
   "source": [
    "pet_preds = pet_model.predict(main_test)"
   ]
  },
  {
   "cell_type": "code",
   "execution_count": 36,
   "metadata": {},
   "outputs": [],
   "source": [
    "submission = pd.DataFrame()"
   ]
  },
  {
   "cell_type": "code",
   "execution_count": 37,
   "metadata": {},
   "outputs": [],
   "source": [
    "submission['pet_id'] = soln_df.pet_id"
   ]
  },
  {
   "cell_type": "code",
   "execution_count": 38,
   "metadata": {},
   "outputs": [],
   "source": [
    "submission['breed_category'] = breed_preds"
   ]
  },
  {
   "cell_type": "code",
   "execution_count": 39,
   "metadata": {},
   "outputs": [],
   "source": [
    "submission['pet_category'] = pet_preds"
   ]
  },
  {
   "cell_type": "code",
   "execution_count": 40,
   "metadata": {},
   "outputs": [],
   "source": [
    "submission.breed_category = submission.breed_category.astype('int64')"
   ]
  },
  {
   "cell_type": "code",
   "execution_count": 41,
   "metadata": {},
   "outputs": [
    {
     "data": {
      "text/html": [
       "<div>\n",
       "<style scoped>\n",
       "    .dataframe tbody tr th:only-of-type {\n",
       "        vertical-align: middle;\n",
       "    }\n",
       "\n",
       "    .dataframe tbody tr th {\n",
       "        vertical-align: top;\n",
       "    }\n",
       "\n",
       "    .dataframe thead th {\n",
       "        text-align: right;\n",
       "    }\n",
       "</style>\n",
       "<table border=\"1\" class=\"dataframe\">\n",
       "  <thead>\n",
       "    <tr style=\"text-align: right;\">\n",
       "      <th></th>\n",
       "      <th>pet_id</th>\n",
       "      <th>breed_category</th>\n",
       "      <th>pet_category</th>\n",
       "    </tr>\n",
       "  </thead>\n",
       "  <tbody>\n",
       "    <tr>\n",
       "      <th>0</th>\n",
       "      <td>ANSL_75005</td>\n",
       "      <td>1</td>\n",
       "      <td>2</td>\n",
       "    </tr>\n",
       "    <tr>\n",
       "      <th>1</th>\n",
       "      <td>ANSL_76663</td>\n",
       "      <td>0</td>\n",
       "      <td>1</td>\n",
       "    </tr>\n",
       "    <tr>\n",
       "      <th>2</th>\n",
       "      <td>ANSL_58259</td>\n",
       "      <td>0</td>\n",
       "      <td>2</td>\n",
       "    </tr>\n",
       "    <tr>\n",
       "      <th>3</th>\n",
       "      <td>ANSL_67171</td>\n",
       "      <td>0</td>\n",
       "      <td>2</td>\n",
       "    </tr>\n",
       "    <tr>\n",
       "      <th>4</th>\n",
       "      <td>ANSL_72871</td>\n",
       "      <td>0</td>\n",
       "      <td>2</td>\n",
       "    </tr>\n",
       "    <tr>\n",
       "      <th>...</th>\n",
       "      <td>...</td>\n",
       "      <td>...</td>\n",
       "      <td>...</td>\n",
       "    </tr>\n",
       "    <tr>\n",
       "      <th>8067</th>\n",
       "      <td>ANSL_66809</td>\n",
       "      <td>0</td>\n",
       "      <td>0</td>\n",
       "    </tr>\n",
       "    <tr>\n",
       "      <th>8068</th>\n",
       "      <td>ANSL_59041</td>\n",
       "      <td>1</td>\n",
       "      <td>2</td>\n",
       "    </tr>\n",
       "    <tr>\n",
       "      <th>8069</th>\n",
       "      <td>ANSL_60034</td>\n",
       "      <td>1</td>\n",
       "      <td>2</td>\n",
       "    </tr>\n",
       "    <tr>\n",
       "      <th>8070</th>\n",
       "      <td>ANSL_58066</td>\n",
       "      <td>2</td>\n",
       "      <td>4</td>\n",
       "    </tr>\n",
       "    <tr>\n",
       "      <th>8071</th>\n",
       "      <td>ANSL_69436</td>\n",
       "      <td>1</td>\n",
       "      <td>2</td>\n",
       "    </tr>\n",
       "  </tbody>\n",
       "</table>\n",
       "<p>8072 rows × 3 columns</p>\n",
       "</div>"
      ],
      "text/plain": [
       "          pet_id  breed_category  pet_category\n",
       "0     ANSL_75005               1             2\n",
       "1     ANSL_76663               0             1\n",
       "2     ANSL_58259               0             2\n",
       "3     ANSL_67171               0             2\n",
       "4     ANSL_72871               0             2\n",
       "...          ...             ...           ...\n",
       "8067  ANSL_66809               0             0\n",
       "8068  ANSL_59041               1             2\n",
       "8069  ANSL_60034               1             2\n",
       "8070  ANSL_58066               2             4\n",
       "8071  ANSL_69436               1             2\n",
       "\n",
       "[8072 rows x 3 columns]"
      ]
     },
     "execution_count": 41,
     "metadata": {},
     "output_type": "execute_result"
    }
   ],
   "source": [
    "submission"
   ]
  },
  {
   "cell_type": "code",
   "execution_count": 42,
   "metadata": {},
   "outputs": [],
   "source": [
    "submission.to_csv('submission_5.csv',index=False)"
   ]
  },
  {
   "cell_type": "code",
   "execution_count": null,
   "metadata": {},
   "outputs": [],
   "source": []
  }
 ],
 "metadata": {
  "kernelspec": {
   "display_name": "Python 3",
   "language": "python",
   "name": "python3"
  },
  "language_info": {
   "codemirror_mode": {
    "name": "ipython",
    "version": 3
   },
   "file_extension": ".py",
   "mimetype": "text/x-python",
   "name": "python",
   "nbconvert_exporter": "python",
   "pygments_lexer": "ipython3",
   "version": "3.7.7"
  }
 },
 "nbformat": 4,
 "nbformat_minor": 4
}
